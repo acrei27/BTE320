{
  "nbformat": 4,
  "nbformat_minor": 0,
  "metadata": {
    "colab": {
      "provenance": [],
      "authorship_tag": "ABX9TyM6rSL5huqTAXENAGphUGVs",
      "include_colab_link": true
    },
    "kernelspec": {
      "name": "python3",
      "display_name": "Python 3"
    },
    "language_info": {
      "name": "python"
    }
  },
  "cells": [
    {
      "cell_type": "markdown",
      "metadata": {
        "id": "view-in-github",
        "colab_type": "text"
      },
      "source": [
        "<a href=\"https://colab.research.google.com/github/acrei27/BTE320/blob/main/In_class_assignments_10_09.ipynb\" target=\"_parent\"><img src=\"https://colab.research.google.com/assets/colab-badge.svg\" alt=\"Open In Colab\"/></a>"
      ]
    },
    {
      "cell_type": "code",
      "execution_count": null,
      "metadata": {
        "colab": {
          "base_uri": "https://localhost:8080/"
        },
        "id": "4fSNhCO9z25Q",
        "outputId": "74e1e668-bfbe-43e8-c190-b1a8e11c9b72"
      },
      "outputs": [
        {
          "output_type": "stream",
          "name": "stdout",
          "text": [
            "Enter your annual salary: 500\n",
            "Enter the percent of your salary to save, as a decimal: .04\n",
            "Enter the cost of your dream home: 100000\n",
            "Number of months: 1182\n"
          ]
        }
      ],
      "source": [
        "annual_salary = float(input(\"Enter your annual salary: \"))\n",
        "portion_saved = float(input(\"Enter the percent of your salary to save, as a decimal: \"))\n",
        "total_cost = float(input(\"Enter the cost of your dream home: \"))\n",
        "\n",
        "portion_down_payment = 0.25\n",
        "current_savings = 0.0\n",
        "r = 0.04\n",
        "monthly_salary = annual_salary / 12\n",
        "down_payment = portion_down_payment * total_cost\n",
        "\n",
        "months = 0\n",
        "\n",
        "while current_savings < down_payment:\n",
        "\n",
        "    current_savings += current_savings * r / 12\n",
        "    current_savings += portion_saved * monthly_salary\n",
        "    months += 1\n",
        "\n",
        "print(f\"Number of months: {months}\")"
      ]
    },
    {
      "cell_type": "code",
      "source": [
        "annual_salary = float(input(\"Enter your annual salary: \"))\n",
        "portion_saved = float(input(\"Enter the percent of your salary to save, as a decimal: \"))\n",
        "total_cost = float(input(\"Enter the cost of your dream home: \"))\n",
        "semi_annual_raise = float(input(\"Enter the semi-annual raise, as a decimal: \"))\n",
        "\n",
        "portion_down_payment = 0.25\n",
        "current_savings = 0.0\n",
        "r = 0.04\n",
        "monthly_salary = annual_salary / 12\n",
        "down_payment = portion_down_payment * total_cost\n",
        "\n",
        "months = 0\n",
        "\n",
        "while current_savings < down_payment:\n",
        "    current_savings += current_savings * r / 12\n",
        "    current_savings += portion_saved * monthly_salary\n",
        "\n",
        "    months += 1\n",
        "\n",
        "    if months % 6 == 0:\n",
        "        annual_salary += annual_salary * semi_annual_raise\n",
        "        monthly_salary = annual_salary / 12\n",
        "\n",
        "print(f\"Number of months: {months}\")"
      ],
      "metadata": {
        "colab": {
          "base_uri": "https://localhost:8080/"
        },
        "id": "p8yhV1gk0JC1",
        "outputId": "4a8bffd6-c649-49f3-f86e-26dd0129f7b9"
      },
      "execution_count": null,
      "outputs": [
        {
          "output_type": "stream",
          "name": "stdout",
          "text": [
            "Enter your annual salary: 450000\n",
            "Enter the percent of your salary to save, as a decimal: .1\n",
            "Enter the cost of your dream home: 10000000\n",
            "Enter the semi-annual raise, as a decimal: .25\n",
            "Number of months: 89\n"
          ]
        }
      ]
    },
    {
      "cell_type": "code",
      "source": [
        "def range_check(number, low, high, print_result=False):\n",
        "    in_range = low <= number <= high\n",
        "    if print_result:\n",
        "        if in_range:\n",
        "            print(f\"{number} is in the range [{low}, {high}].\")\n",
        "        else:\n",
        "            print(f\"{number} is not in the range [{low}, {high}].\")\n",
        "    return in_range\n",
        "\n",
        "range_check(20, 5, 15, print_result=True)\n",
        "print(range_check(20, 5, 15))"
      ],
      "metadata": {
        "colab": {
          "base_uri": "https://localhost:8080/"
        },
        "id": "smR6OaFa0ORt",
        "outputId": "38210194-194d-42fc-d473-ca755d3bf2c9"
      },
      "execution_count": null,
      "outputs": [
        {
          "output_type": "stream",
          "name": "stdout",
          "text": [
            "20 is not in the range [5, 15].\n",
            "False\n"
          ]
        }
      ]
    }
  ]
}