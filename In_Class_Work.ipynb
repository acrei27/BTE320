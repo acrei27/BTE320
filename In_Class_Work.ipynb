{
  "cells": [
    {
      "cell_type": "markdown",
      "metadata": {
        "id": "view-in-github",
        "colab_type": "text"
      },
      "source": [
        "<a href=\"https://colab.research.google.com/github/acrei27/BTE320/blob/main/In_Class_Work.ipynb\" target=\"_parent\"><img src=\"https://colab.research.google.com/assets/colab-badge.svg\" alt=\"Open In Colab\"/></a>"
      ]
    },
    {
      "cell_type": "code",
      "execution_count": null,
      "metadata": {
        "colab": {
          "base_uri": "https://localhost:8080/"
        },
        "id": "PiHsJ3WzCl7A",
        "outputId": "b65d4c1f-c3f2-4b8e-f4b5-d79d7acf37d5"
      },
      "outputs": [
        {
          "name": "stdout",
          "output_type": "stream",
          "text": [
            "244.92000000000002\n"
          ]
        }
      ],
      "source": [
        "h=10\n",
        "r=3\n",
        "pi=3.14\n",
        "\n",
        "area=2*pi*r**2+2*pi*r*h\n",
        "print(area)"
      ]
    },
    {
      "cell_type": "code",
      "execution_count": null,
      "metadata": {
        "colab": {
          "base_uri": "https://localhost:8080/"
        },
        "id": "_Oa92RySLax_",
        "outputId": "abdf24d4-a927-48fc-efbc-b6e7d6e41bce"
      },
      "outputs": [
        {
          "output_type": "stream",
          "name": "stdout",
          "text": [
            "Do you wish to play a game? (yes or no): yes\n",
            "Player 1, choose rock, paper, or scissors: rock\n",
            "Player 2, choose rock, paper, or scissors: paper\n",
            "Player two wins\n",
            "Do you wish to play another game? (yes or no): no\n",
            "Thanks for playing\n"
          ]
        }
      ],
      "source": [
        "choice = input(\"Do you wish to play a game? (yes or no): \")\n",
        "while choice == 'yes':\n",
        "    p1 = input(\"Player 1, choose rock, paper, or scissors: \")\n",
        "    p2 = input(\"Player 2, choose rock, paper, or scissors: \")\n",
        "    if p1 == p2:\n",
        "        print('Draw')\n",
        "    elif p1 == 'rock' and p2 == 'scissors':\n",
        "        print('Player one wins')\n",
        "    elif p1 == 'paper' and p2 == 'rock':\n",
        "        print('Player one wins')\n",
        "    elif p1 == 'scissors' and p2 == 'paper':\n",
        "        print('Player one wins')\n",
        "    else:\n",
        "        print('Player two wins')\n",
        "    choice = input(\"Do you wish to play another game? (yes or no): \")\n",
        "\n",
        "print('Thanks for playing')\n",
        "\n"
      ]
    },
    {
      "cell_type": "code",
      "execution_count": null,
      "metadata": {
        "colab": {
          "base_uri": "https://localhost:8080/"
        },
        "id": "QyeqAJ3IWvgt",
        "outputId": "41c5be4d-f77a-4c11-883e-0d6de2ee8b0e"
      },
      "outputs": [
        {
          "name": "stdout",
          "output_type": "stream",
          "text": [
            "Choose number:5\n",
            "Choose number:5\n",
            "make calculation using operations '+', '-', '*', '/', '**':*\n",
            "25.0\n"
          ]
        }
      ],
      "source": [
        "n1=float(input(\"Choose number:\"))\n",
        "n2=float(input(\"Choose number:\"))\n",
        "operation= str(input(\"make calculation using operations '+', '-', '*', '/', '**':\"))\n",
        "if operation=='+':\n",
        "  print(n1+n2)\n",
        "elif operation=='-':\n",
        "  print(n1-n2)\n",
        "elif operation=='*':\n",
        "  print(n1*n2)\n",
        "elif operation=='/':\n",
        "  print(n1/n2)\n",
        "elif operation=='**':\n",
        "  print(n1**n2)"
      ]
    },
    {
      "cell_type": "code",
      "source": [
        "flatRate = 5\n",
        "hourlyRate = 2.5\n",
        "\n",
        "for hour in range(1,9, 1):\n",
        "  charge= flatRate+hourlyRate*hour\n",
        "  print(charge)\n"
      ],
      "metadata": {
        "id": "rfdbUebhZ4gJ",
        "colab": {
          "base_uri": "https://localhost:8080/"
        },
        "outputId": "233f099f-87dd-40ec-a6b7-915814140be7"
      },
      "execution_count": null,
      "outputs": [
        {
          "output_type": "stream",
          "name": "stdout",
          "text": [
            "1 7.5\n",
            "2 10.0\n",
            "3 12.5\n",
            "4 15.0\n",
            "5 17.5\n",
            "6 20.0\n",
            "7 22.5\n",
            "8 25.0\n"
          ]
        }
      ]
    },
    {
      "cell_type": "code",
      "source": [
        "flatRate = 5\n",
        "hourlyRate = 2.5\n",
        "\n",
        "for hour in range(1,9, 1):\n",
        "  charge= flatRate+hourlyRate*hour\n",
        "  if charge < 10.0:\n",
        "    charge=10.0\n",
        "  elif charge > 20:\n",
        "    charge=20.0\n",
        "  print(hour,charge)\n",
        "\n"
      ],
      "metadata": {
        "colab": {
          "base_uri": "https://localhost:8080/"
        },
        "id": "mZFtcbx9jyTS",
        "outputId": "0c4931af-8070-4965-9195-ebbd293f0cfd"
      },
      "execution_count": null,
      "outputs": [
        {
          "output_type": "stream",
          "name": "stdout",
          "text": [
            "1 10.0\n",
            "2 10.0\n",
            "3 12.5\n",
            "4 15.0\n",
            "5 17.5\n",
            "6 20.0\n",
            "7 20.0\n",
            "8 20.0\n"
          ]
        }
      ]
    },
    {
      "cell_type": "code",
      "source": [
        "fixed=20\n",
        "ad=2*ad**.5\n",
        "ticketprice=10\n",
        "fixedcost=200\n",
        "for ad in range (0,201,25):\n",
        "  additional=2*round(ad**.5)\n",
        "  profit=(20+additional)*10-200-ad\n",
        "  print(ad,profit)\n"
      ],
      "metadata": {
        "colab": {
          "base_uri": "https://localhost:8080/"
        },
        "id": "HrqV4444klRh",
        "outputId": "b4c08135-c8c2-4411-f118-68bc343c84d5"
      },
      "execution_count": null,
      "outputs": [
        {
          "output_type": "stream",
          "name": "stdout",
          "text": [
            "0 0\n",
            "25 75\n",
            "50 90\n",
            "75 105\n",
            "100 100\n",
            "125 95\n",
            "150 90\n",
            "175 85\n",
            "200 80\n"
          ]
        }
      ]
    },
    {
      "cell_type": "code",
      "source": [
        "L = []\n",
        "item=int(input('Give a value:'))\n",
        "while item != 0:\n",
        "  L.append(item)\n",
        "  item=int(input('Give a value:'))\n",
        "print(L)"
      ],
      "metadata": {
        "colab": {
          "base_uri": "https://localhost:8080/"
        },
        "id": "vNLzE0N2mhwh",
        "outputId": "25340853-82d7-4c80-c027-614077db4327"
      },
      "execution_count": null,
      "outputs": [
        {
          "output_type": "stream",
          "name": "stdout",
          "text": [
            "Give a value:1\n",
            "Give a value:2\n",
            "Give a value:3\n",
            "Give a value:0\n",
            "[1, 2, 3]\n"
          ]
        }
      ]
    },
    {
      "cell_type": "code",
      "source": [
        "months= {}\n",
        "\n",
        "names= [\"Jan\", \"Feb\", \"Mar\", \"Apr\", \"May\", \"Jun\", \"Jul\", \"Aug\", \"Sep\", \"Oct\", \"Nov\", \"Dec\"]\n",
        "numbers = [1,2,3,4,5,6,7,8,9,10,11,12]\n",
        "\n",
        "for i in range(len(numbers)):\n",
        "  months[i+1]=names[i]\n",
        "months"
      ],
      "metadata": {
        "colab": {
          "base_uri": "https://localhost:8080/"
        },
        "id": "YLGxnmISWGlq",
        "outputId": "9efd5d74-0ac5-44b7-d402-a52b1c556e41"
      },
      "execution_count": null,
      "outputs": [
        {
          "output_type": "execute_result",
          "data": {
            "text/plain": [
              "{1: 'Jan',\n",
              " 2: 'Feb',\n",
              " 3: 'Mar',\n",
              " 4: 'Apr',\n",
              " 5: 'May',\n",
              " 6: 'Jun',\n",
              " 7: 'Jul',\n",
              " 8: 'Aug',\n",
              " 9: 'Sep',\n",
              " 10: 'Oct',\n",
              " 11: 'Nov',\n",
              " 12: 'Dec'}"
            ]
          },
          "metadata": {},
          "execution_count": 1
        }
      ]
    },
    {
      "cell_type": "code",
      "source": [
        "def calcFee(hours, decimals=2):\n",
        "  fee = round (5 + hours * 2.5, decimals)\n",
        "  return fee\n",
        "def displayFee(fee):\n",
        "  print(fee)\n",
        "hours_parked= int(input('Enter Hours Parked:'))\n",
        "f = calcFee(hours_parked)\n",
        "displayFee(f)\n",
        "\n",
        "\n",
        "\n",
        "\n",
        "\n",
        "\n",
        "\n",
        "\n"
      ],
      "metadata": {
        "id": "cBTmv9Z4cKgy",
        "colab": {
          "base_uri": "https://localhost:8080/"
        },
        "outputId": "4d115b5a-31ec-40cc-d0be-5c15f76f479c"
      },
      "execution_count": null,
      "outputs": [
        {
          "output_type": "stream",
          "name": "stdout",
          "text": [
            "Enter Hours Parked:5\n",
            "17.5\n"
          ]
        }
      ]
    },
    {
      "cell_type": "code",
      "source": [
        "def reverse(string):\n",
        "    if len(string) == 1:\n",
        "        return string\n",
        "    else:\n",
        "        return reverse(string[1:])+string[0]\n",
        "print(reverse('Hello'))\n"
      ],
      "metadata": {
        "colab": {
          "base_uri": "https://localhost:8080/"
        },
        "id": "JW4vuynZkoEA",
        "outputId": "6cf93b03-acd1-416c-bf0d-60aaf0602c66"
      },
      "execution_count": 3,
      "outputs": [
        {
          "output_type": "stream",
          "name": "stdout",
          "text": [
            "olleH\n"
          ]
        }
      ]
    },
    {
      "cell_type": "code",
      "source": [
        "def rev(s):\n",
        "  if len(s)==1:\n",
        "    return s\n",
        "  else:\n",
        "    return rev(s[1:])+s[0]\n",
        "rev('Halloween')"
      ],
      "metadata": {
        "colab": {
          "base_uri": "https://localhost:8080/",
          "height": 35
        },
        "id": "9Aj5mlx4ojQm",
        "outputId": "f5e998e5-76ae-4fbe-fd4e-44a45c75e84c"
      },
      "execution_count": null,
      "outputs": [
        {
          "output_type": "execute_result",
          "data": {
            "text/plain": [
              "'neewollaH'"
            ],
            "application/vnd.google.colaboratory.intrinsic+json": {
              "type": "string"
            }
          },
          "metadata": {},
          "execution_count": 16
        }
      ]
    },
    {
      "cell_type": "code",
      "source": [
        "def quickSort(L):\n",
        "  if len(L)<2:\n",
        "    return L\n",
        "  else:\n",
        "    pivot= L[len(L)//2]\n",
        "    less=[]\n",
        "    equal=[]\n",
        "    larger=[]\n",
        "    for el in L:\n",
        "      if el<pivot:\n",
        "        less.append(el)\n",
        "      elif el==pivot:\n",
        "        equal.append(el)\n",
        "      else:\n",
        "        larger.append(el)\n",
        "    return quickSort(less)+equal+quickSort(larger)\n",
        "    pivot=...\n",
        "    less=[]\n",
        "    equal=[]\n",
        "    larger=[]\n",
        "    for el in L:\n",
        "      if el<pivot:\n",
        "        less.append(el)\n",
        "      elif el==pivot:\n",
        "        equal.append(el)\n",
        "      else:\n",
        "        larger.append(el)\n",
        "    return quickSort(less)+equal+quickSort(larger)\n",
        "print(quickSort([8,2,6,9,1,0]))"
      ],
      "metadata": {
        "id": "nwjkKDJA1FmP",
        "colab": {
          "base_uri": "https://localhost:8080/"
        },
        "outputId": "249ecadb-bb89-4791-825f-dc5e4a520eab"
      },
      "execution_count": 7,
      "outputs": [
        {
          "output_type": "stream",
          "name": "stdout",
          "text": [
            "[0, 1, 2, 6, 8, 9]\n"
          ]
        }
      ]
    },
    {
      "cell_type": "code",
      "source": [
        "def wAvg(L,w):\n",
        "  if sum(w) != 1:\n",
        "    w= [weight/sum(w) for weight in w]\n",
        "    weighted_average = sum([L[i]*w[i] for i in range(len(L))])\n",
        "  return weighted_average\n",
        "L=[1,2,3]\n",
        "w=[.1,.3,.4]\n",
        "print(wAvg(L,w))"
      ],
      "metadata": {
        "colab": {
          "base_uri": "https://localhost:8080/"
        },
        "id": "YpHyTI6B-yiU",
        "outputId": "aefcf825-33f9-46e8-a7af-922f0ec34f70"
      },
      "execution_count": null,
      "outputs": [
        {
          "output_type": "stream",
          "name": "stdout",
          "text": [
            "2.375\n"
          ]
        }
      ]
    },
    {
      "cell_type": "code",
      "source": [
        "def wAvg(L,w):\n",
        "  res=[]\n",
        "  try:\n",
        "    for i in range(len(L)):\n",
        "      res.append(L[i]*w[i])\n",
        "    return sum(res)/sum(w)\n",
        "  except ZeroDivisionError:\n",
        "    print(\"Division by zero\")\n",
        "    return []\n",
        "  except TypeError:\n",
        "    print(\"Non-numerical objects found\")\n",
        "    return []\n",
        "  except Exception as e:\n",
        "    print(f'Unknown Error: (e)')\n",
        "    return float('nan')\n",
        "\n",
        "wAvg([1,2,3],[.1,.3,.4])"
      ],
      "metadata": {
        "colab": {
          "base_uri": "https://localhost:8080/"
        },
        "id": "7Owei_moEX_1",
        "outputId": "bc2dd2cb-ed31-4699-85da-4a8f3e44ba81"
      },
      "execution_count": null,
      "outputs": [
        {
          "output_type": "execute_result",
          "data": {
            "text/plain": [
              "2.375"
            ]
          },
          "metadata": {},
          "execution_count": 16
        }
      ]
    },
    {
      "cell_type": "code",
      "source": [
        "class Student:\n",
        "    def __init__(self, name, number):\n",
        "        self.name = name\n",
        "        self.number = number\n",
        "\n",
        "    def __repr__(self):\n",
        "        return f'Name: {self.name}'\n",
        "student1 = Student(\"James Bond\", \"007\")\n",
        "student2 = Student(\"Clark Kent\", \"333\")\n",
        "\n",
        "print(student1.name)\n",
        "print(student2.name)"
      ],
      "metadata": {
        "colab": {
          "base_uri": "https://localhost:8080/"
        },
        "id": "h8XztlX924CR",
        "outputId": "fda23dab-66e6-448c-f372-84ac3e694663"
      },
      "execution_count": null,
      "outputs": [
        {
          "output_type": "stream",
          "name": "stdout",
          "text": [
            "James Bond\n",
            "Clark Kent\n"
          ]
        }
      ]
    },
    {
      "cell_type": "code",
      "source": [
        "print(student1)"
      ],
      "metadata": {
        "colab": {
          "base_uri": "https://localhost:8080/"
        },
        "id": "rbdVvExM7RhY",
        "outputId": "ebe6d5c5-1b18-405d-91ad-f8fb28a13fbc"
      },
      "execution_count": null,
      "outputs": [
        {
          "output_type": "stream",
          "name": "stdout",
          "text": [
            "Name: James Bond\n"
          ]
        }
      ]
    },
    {
      "cell_type": "code",
      "source": [
        "class Student:\n",
        "    def __init__(self, name, number):\n",
        "        self.name = name\n",
        "        self.number = number\n",
        "        self.courses = []\n",
        "    def enroll(self, course):\n",
        "      if course not in self.courses:\n",
        "        self.courses.append(course)\n",
        "      else:\n",
        "        print(f'You have already enrolled in {course}')\n",
        "    def get_courses(self):\n",
        "      return self.courses\n"
      ],
      "metadata": {
        "id": "cHFPD54PL4RP"
      },
      "execution_count": 3,
      "outputs": []
    },
    {
      "cell_type": "code",
      "source": [
        "s=Student('bob','123')"
      ],
      "metadata": {
        "id": "TasVzrAoPVik"
      },
      "execution_count": 4,
      "outputs": []
    },
    {
      "cell_type": "code",
      "source": [
        "s.enroll('ABC123')\n",
        "s.enroll('ABC555')\n",
        "s.enroll('ABC888')"
      ],
      "metadata": {
        "id": "ehlJsJ5yPbN2"
      },
      "execution_count": 5,
      "outputs": []
    },
    {
      "cell_type": "code",
      "source": [
        "s.get_courses()"
      ],
      "metadata": {
        "colab": {
          "base_uri": "https://localhost:8080/"
        },
        "id": "iss9cX0bPh-F",
        "outputId": "c68e3b29-8d87-461f-cfe9-43bc2f33b241"
      },
      "execution_count": 6,
      "outputs": [
        {
          "output_type": "execute_result",
          "data": {
            "text/plain": [
              "['ABC123', 'ABC555', 'ABC888']"
            ]
          },
          "metadata": {},
          "execution_count": 6
        }
      ]
    },
    {
      "cell_type": "code",
      "source": [
        "annual_salary = float(input(\"Enter your annual salary: \"))\n",
        "portion_saved = float(input(\"Enter the percent of your salary to save, as a decimal: \"))\n",
        "total_cost = float(input(\"Enter the cost of your dream home: \"))\n",
        "\n",
        "portion_down_payment = 0.25\n",
        "current_savings = 0.0\n",
        "r = 0.04\n",
        "monthly_salary = annual_salary / 12\n",
        "down_payment = portion_down_payment * total_cost\n",
        "\n",
        "months = 0\n",
        "\n",
        "while current_savings < down_payment:\n",
        "\n",
        "    current_savings += current_savings * r / 12\n",
        "    current_savings += portion_saved * monthly_salary\n",
        "    months += 1\n",
        "\n",
        "print(f\"Number of months: {months}\")"
      ],
      "metadata": {
        "colab": {
          "base_uri": "https://localhost:8080/"
        },
        "id": "iMhonsaZb6jA",
        "outputId": "3b9bea0f-59e8-4d5c-cda1-9c573beb8c26"
      },
      "execution_count": 8,
      "outputs": [
        {
          "output_type": "stream",
          "name": "stdout",
          "text": [
            "Enter your annual salary: 120000\n",
            "Enter the percent of your salary to save, as a decimal: .1\n",
            "Enter the cost of your dream home: 1000000\n",
            "Number of months: 183\n"
          ]
        }
      ]
    },
    {
      "cell_type": "code",
      "source": [
        "annual_salary = float(input(\"Enter your annual salary: \"))\n",
        "portion_saved = float(input(\"Enter the percent of your salary to save, as a decimal: \"))\n",
        "total_cost = float(input(\"Enter the cost of your dream home: \"))\n",
        "semi_annual_raise = float(input(\"Enter the semi-annual raise, as a decimal: \"))\n",
        "\n",
        "portion_down_payment = 0.25\n",
        "current_savings = 0.0\n",
        "r = 0.04\n",
        "monthly_salary = annual_salary / 12\n",
        "down_payment = portion_down_payment * total_cost\n",
        "\n",
        "months = 0\n",
        "\n",
        "while current_savings < down_payment:\n",
        "    current_savings += current_savings * r / 12\n",
        "    current_savings += portion_saved * monthly_salary\n",
        "\n",
        "    months += 1\n",
        "\n",
        "    if months % 6 == 0:\n",
        "        annual_salary += annual_salary * semi_annual_raise\n",
        "        monthly_salary = annual_salary / 12\n",
        "\n",
        "print(f\"Number of months: {months}\")"
      ],
      "metadata": {
        "colab": {
          "base_uri": "https://localhost:8080/"
        },
        "id": "24MENKuXjSzy",
        "outputId": "8f7dae3a-8446-4369-a6df-1fa09d4c4ad9"
      },
      "execution_count": 9,
      "outputs": [
        {
          "output_type": "stream",
          "name": "stdout",
          "text": [
            "Enter your annual salary: 120000\n",
            "Enter the percent of your salary to save, as a decimal: .05\n",
            "Enter the cost of your dream home: 500000\n",
            "Enter the semi-annual raise, as a decimal: .03\n",
            "Number of months: 142\n"
          ]
        }
      ]
    },
    {
      "cell_type": "code",
      "source": [
        "def range_check(number, low, high, print_result=False):\n",
        "    in_range = low <= number <= high\n",
        "    if print_result:\n",
        "        if in_range:\n",
        "            print(f\"{number} is in the range [{low}, {high}].\")\n",
        "        else:\n",
        "            print(f\"{number} is not in the range [{low}, {high}].\")\n",
        "    return in_range\n",
        "\n",
        "range_check(20, 5, 15, print_result=True)\n",
        "print(range_check(20, 5, 15))"
      ],
      "metadata": {
        "colab": {
          "base_uri": "https://localhost:8080/"
        },
        "id": "QkQC72gpjmix",
        "outputId": "f938b248-e523-4933-c901-e04dd1a64d1f"
      },
      "execution_count": 17,
      "outputs": [
        {
          "output_type": "stream",
          "name": "stdout",
          "text": [
            "20 is not in the range [5, 15].\n",
            "False\n"
          ]
        }
      ]
    }
  ],
  "metadata": {
    "colab": {
      "provenance": [],
      "authorship_tag": "ABX9TyOMJc8L11kKOAEJZgXBjHFf",
      "include_colab_link": true
    },
    "kernelspec": {
      "display_name": "Python 3",
      "name": "python3"
    },
    "language_info": {
      "name": "python"
    }
  },
  "nbformat": 4,
  "nbformat_minor": 0
}