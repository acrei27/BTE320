{
  "cells": [
    {
      "cell_type": "markdown",
      "metadata": {
        "id": "view-in-github",
        "colab_type": "text"
      },
      "source": [
        "<a href=\"https://colab.research.google.com/github/acrei27/BTE320/blob/main/In_Class_Work.ipynb\" target=\"_parent\"><img src=\"https://colab.research.google.com/assets/colab-badge.svg\" alt=\"Open In Colab\"/></a>"
      ]
    },
    {
      "cell_type": "code",
      "execution_count": null,
      "metadata": {
        "colab": {
          "base_uri": "https://localhost:8080/"
        },
        "id": "PiHsJ3WzCl7A",
        "outputId": "b65d4c1f-c3f2-4b8e-f4b5-d79d7acf37d5"
      },
      "outputs": [
        {
          "name": "stdout",
          "output_type": "stream",
          "text": [
            "244.92000000000002\n"
          ]
        }
      ],
      "source": [
        "h=10\n",
        "r=3\n",
        "pi=3.14\n",
        "\n",
        "area=2*pi*r**2+2*pi*r*h\n",
        "print(area)"
      ]
    },
    {
      "cell_type": "code",
      "execution_count": null,
      "metadata": {
        "colab": {
          "base_uri": "https://localhost:8080/"
        },
        "id": "_Oa92RySLax_",
        "outputId": "abdf24d4-a927-48fc-efbc-b6e7d6e41bce"
      },
      "outputs": [
        {
          "output_type": "stream",
          "name": "stdout",
          "text": [
            "Do you wish to play a game? (yes or no): yes\n",
            "Player 1, choose rock, paper, or scissors: rock\n",
            "Player 2, choose rock, paper, or scissors: paper\n",
            "Player two wins\n",
            "Do you wish to play another game? (yes or no): no\n",
            "Thanks for playing\n"
          ]
        }
      ],
      "source": [
        "choice = input(\"Do you wish to play a game? (yes or no): \")\n",
        "while choice == 'yes':\n",
        "    p1 = input(\"Player 1, choose rock, paper, or scissors: \")\n",
        "    p2 = input(\"Player 2, choose rock, paper, or scissors: \")\n",
        "    if p1 == p2:\n",
        "        print('Draw')\n",
        "    elif p1 == 'rock' and p2 == 'scissors':\n",
        "        print('Player one wins')\n",
        "    elif p1 == 'paper' and p2 == 'rock':\n",
        "        print('Player one wins')\n",
        "    elif p1 == 'scissors' and p2 == 'paper':\n",
        "        print('Player one wins')\n",
        "    else:\n",
        "        print('Player two wins')\n",
        "    choice = input(\"Do you wish to play another game? (yes or no): \")\n",
        "\n",
        "print('Thanks for playing')\n",
        "\n"
      ]
    },
    {
      "cell_type": "code",
      "execution_count": null,
      "metadata": {
        "colab": {
          "base_uri": "https://localhost:8080/"
        },
        "id": "QyeqAJ3IWvgt",
        "outputId": "41c5be4d-f77a-4c11-883e-0d6de2ee8b0e"
      },
      "outputs": [
        {
          "name": "stdout",
          "output_type": "stream",
          "text": [
            "Choose number:5\n",
            "Choose number:5\n",
            "make calculation using operations '+', '-', '*', '/', '**':*\n",
            "25.0\n"
          ]
        }
      ],
      "source": [
        "n1=float(input(\"Choose number:\"))\n",
        "n2=float(input(\"Choose number:\"))\n",
        "operation= str(input(\"make calculation using operations '+', '-', '*', '/', '**':\"))\n",
        "if operation=='+':\n",
        "  print(n1+n2)\n",
        "elif operation=='-':\n",
        "  print(n1-n2)\n",
        "elif operation=='*':\n",
        "  print(n1*n2)\n",
        "elif operation=='/':\n",
        "  print(n1/n2)\n",
        "elif operation=='**':\n",
        "  print(n1**n2)"
      ]
    },
    {
      "cell_type": "code",
      "source": [
        "flatRate = 5\n",
        "hourlyRate = 2.5\n",
        "\n",
        "for hour in range(1,9, 1):\n",
        "  charge= flatRate+hourlyRate*hour\n",
        "  print(charge)\n"
      ],
      "metadata": {
        "id": "rfdbUebhZ4gJ",
        "colab": {
          "base_uri": "https://localhost:8080/"
        },
        "outputId": "233f099f-87dd-40ec-a6b7-915814140be7"
      },
      "execution_count": null,
      "outputs": [
        {
          "output_type": "stream",
          "name": "stdout",
          "text": [
            "1 7.5\n",
            "2 10.0\n",
            "3 12.5\n",
            "4 15.0\n",
            "5 17.5\n",
            "6 20.0\n",
            "7 22.5\n",
            "8 25.0\n"
          ]
        }
      ]
    },
    {
      "cell_type": "code",
      "source": [
        "flatRate = 5\n",
        "hourlyRate = 2.5\n",
        "\n",
        "for hour in range(1,9, 1):\n",
        "  charge= flatRate+hourlyRate*hour\n",
        "  if charge < 10.0:\n",
        "    charge=10.0\n",
        "  elif charge > 20:\n",
        "    charge=20.0\n",
        "  print(hour,charge)\n",
        "\n"
      ],
      "metadata": {
        "colab": {
          "base_uri": "https://localhost:8080/"
        },
        "id": "mZFtcbx9jyTS",
        "outputId": "0c4931af-8070-4965-9195-ebbd293f0cfd"
      },
      "execution_count": null,
      "outputs": [
        {
          "output_type": "stream",
          "name": "stdout",
          "text": [
            "1 10.0\n",
            "2 10.0\n",
            "3 12.5\n",
            "4 15.0\n",
            "5 17.5\n",
            "6 20.0\n",
            "7 20.0\n",
            "8 20.0\n"
          ]
        }
      ]
    },
    {
      "cell_type": "code",
      "source": [
        "fixed=20\n",
        "ad=2*ad**.5\n",
        "ticketprice=10\n",
        "fixedcost=200\n",
        "for ad in range (0,201,25):\n",
        "  additional=2*round(ad**.5)\n",
        "  profit=(20+additional)*10-200-ad\n",
        "  print(ad,profit)\n"
      ],
      "metadata": {
        "colab": {
          "base_uri": "https://localhost:8080/"
        },
        "id": "HrqV4444klRh",
        "outputId": "b4c08135-c8c2-4411-f118-68bc343c84d5"
      },
      "execution_count": null,
      "outputs": [
        {
          "output_type": "stream",
          "name": "stdout",
          "text": [
            "0 0\n",
            "25 75\n",
            "50 90\n",
            "75 105\n",
            "100 100\n",
            "125 95\n",
            "150 90\n",
            "175 85\n",
            "200 80\n"
          ]
        }
      ]
    },
    {
      "cell_type": "code",
      "source": [
        "L = []\n",
        "item=int(input('Give a value:'))\n",
        "while item != 0:\n",
        "  L.append(item)\n",
        "  item=int(input('Give a value:'))\n",
        "print(L)"
      ],
      "metadata": {
        "colab": {
          "base_uri": "https://localhost:8080/"
        },
        "id": "vNLzE0N2mhwh",
        "outputId": "25340853-82d7-4c80-c027-614077db4327"
      },
      "execution_count": null,
      "outputs": [
        {
          "output_type": "stream",
          "name": "stdout",
          "text": [
            "Give a value:1\n",
            "Give a value:2\n",
            "Give a value:3\n",
            "Give a value:0\n",
            "[1, 2, 3]\n"
          ]
        }
      ]
    },
    {
      "cell_type": "code",
      "source": [
        "months= {}\n",
        "\n",
        "names= [\"Jan\", \"Feb\", \"Mar\", \"Apr\", \"May\", \"Jun\", \"Jul\", \"Aug\", \"Sep\", \"Oct\", \"Nov\", \"Dec\"]\n",
        "numbers = [1,2,3,4,5,6,7,8,9,10,11,12]\n",
        "\n",
        "for i in range(len(numbers)):\n",
        "  months[i+1]=names[i]\n",
        "months"
      ],
      "metadata": {
        "colab": {
          "base_uri": "https://localhost:8080/"
        },
        "id": "YLGxnmISWGlq",
        "outputId": "9efd5d74-0ac5-44b7-d402-a52b1c556e41"
      },
      "execution_count": null,
      "outputs": [
        {
          "output_type": "execute_result",
          "data": {
            "text/plain": [
              "{1: 'Jan',\n",
              " 2: 'Feb',\n",
              " 3: 'Mar',\n",
              " 4: 'Apr',\n",
              " 5: 'May',\n",
              " 6: 'Jun',\n",
              " 7: 'Jul',\n",
              " 8: 'Aug',\n",
              " 9: 'Sep',\n",
              " 10: 'Oct',\n",
              " 11: 'Nov',\n",
              " 12: 'Dec'}"
            ]
          },
          "metadata": {},
          "execution_count": 1
        }
      ]
    },
    {
      "cell_type": "code",
      "source": [
        "def calcFee(hours, decimals=2):\n",
        "  fee = round (5 + hours * 2.5, decimals)\n",
        "  return fee\n",
        "def displayFee(fee):\n",
        "  print(fee)\n",
        "hours_parked= int(input('Enter Hours Parked:'))\n",
        "f = calcFee(hours_parked)\n",
        "displayFee(f)\n",
        "\n",
        "\n",
        "\n",
        "\n",
        "\n",
        "\n",
        "\n",
        "\n"
      ],
      "metadata": {
        "id": "cBTmv9Z4cKgy",
        "colab": {
          "base_uri": "https://localhost:8080/"
        },
        "outputId": "4d115b5a-31ec-40cc-d0be-5c15f76f479c"
      },
      "execution_count": null,
      "outputs": [
        {
          "output_type": "stream",
          "name": "stdout",
          "text": [
            "Enter Hours Parked:5\n",
            "17.5\n"
          ]
        }
      ]
    },
    {
      "cell_type": "code",
      "source": [
        "def reverse(string):\n",
        "    if len(string) == 1:\n",
        "        return string\n",
        "    else:\n",
        "        return reverse(string[1:])+string[0]\n",
        "print(reverse('Hello'))\n"
      ],
      "metadata": {
        "colab": {
          "base_uri": "https://localhost:8080/"
        },
        "id": "JW4vuynZkoEA",
        "outputId": "75b911c8-7839-4157-cc46-0172b11b41af"
      },
      "execution_count": null,
      "outputs": [
        {
          "output_type": "stream",
          "name": "stdout",
          "text": [
            "olleH\n"
          ]
        }
      ]
    },
    {
      "cell_type": "code",
      "source": [
        "def rev(s):\n",
        "  if len(s)==1:\n",
        "    return s\n",
        "  else:\n",
        "    return rev(s[1:])+s[0]\n",
        "rev('Halloween')"
      ],
      "metadata": {
        "colab": {
          "base_uri": "https://localhost:8080/",
          "height": 35
        },
        "id": "9Aj5mlx4ojQm",
        "outputId": "f5e998e5-76ae-4fbe-fd4e-44a45c75e84c"
      },
      "execution_count": null,
      "outputs": [
        {
          "output_type": "execute_result",
          "data": {
            "text/plain": [
              "'neewollaH'"
            ],
            "application/vnd.google.colaboratory.intrinsic+json": {
              "type": "string"
            }
          },
          "metadata": {},
          "execution_count": 16
        }
      ]
    },
    {
      "cell_type": "code",
      "source": [
        "def quickSort(L):\n",
        "  if len(L)<2:\n",
        "    return L\n",
        "  else:\n",
        "    pivot= L[len(L)//2]\n",
        "    less=[]\n",
        "    equal=[]\n",
        "    larger=[]\n",
        "    for el in L:\n",
        "      if el<pivot:\n",
        "        less.append(el)\n",
        "      elif el==pivot:\n",
        "        equal.append(el)\n",
        "      else:\n",
        "        larger.append(el)\n",
        "    return quickSort(less)+equal+quickSort(larger)\n",
        "    pivot=...\n",
        "    less=[]\n",
        "    equal=[]\n",
        "    larger=[]\n",
        "    for el in L:\n",
        "      if el<pivot:\n",
        "        less.append(el)\n",
        "      elif el==pivot:\n",
        "        equal.append(el)\n",
        "      else:\n",
        "        larger.append(el)\n",
        "    return quickSort(less)+equal+quickSort(larger)\n",
        "  quickSort([8,2,6,9,1,0])"
      ],
      "metadata": {
        "id": "nwjkKDJA1FmP"
      },
      "execution_count": null,
      "outputs": []
    },
    {
      "cell_type": "code",
      "source": [
        "def wAvg(L,w):\n",
        "  if sum(w) != 1:\n",
        "    w= [weight/sum(w) for weight in w]\n",
        "    weighted_average = sum([L[i]*w[i] for i in range(len(L))])\n",
        "  return weighted_average\n",
        "L=[1,2,3]\n",
        "w=[.1,.3,.4]\n",
        "print(wAvg(L,w))"
      ],
      "metadata": {
        "colab": {
          "base_uri": "https://localhost:8080/"
        },
        "id": "YpHyTI6B-yiU",
        "outputId": "aefcf825-33f9-46e8-a7af-922f0ec34f70"
      },
      "execution_count": 24,
      "outputs": [
        {
          "output_type": "stream",
          "name": "stdout",
          "text": [
            "2.375\n"
          ]
        }
      ]
    },
    {
      "cell_type": "code",
      "source": [
        "def wAvg(L,w):\n",
        "  res=[]\n",
        "  try:\n",
        "    for i in range(len(L)):\n",
        "      res.append(L[i]*w[i])\n",
        "    return sum(res)/sum(w)\n",
        "  except ZeroDivisionError:\n",
        "    print(\"Division by zero\")\n",
        "    return []\n",
        "  except TypeError:\n",
        "    print(\"Non-numerical objects found\")\n",
        "    return []\n",
        "  except Exception as e:\n",
        "    print(f'Unknown Error: (e)')\n",
        "    return float('nan')\n",
        "\n",
        "wAvg([1,2,3],[.1,.3,.4])"
      ],
      "metadata": {
        "colab": {
          "base_uri": "https://localhost:8080/"
        },
        "id": "7Owei_moEX_1",
        "outputId": "0706df13-0adc-4aec-aa69-4fe741c90e19"
      },
      "execution_count": 34,
      "outputs": [
        {
          "output_type": "execute_result",
          "data": {
            "text/plain": [
              "2.375"
            ]
          },
          "metadata": {},
          "execution_count": 34
        }
      ]
    }
  ],
  "metadata": {
    "colab": {
      "provenance": [],
      "authorship_tag": "ABX9TyO+kzX8Au9bRWac/7d44KAo",
      "include_colab_link": true
    },
    "kernelspec": {
      "display_name": "Python 3",
      "name": "python3"
    },
    "language_info": {
      "name": "python"
    }
  },
  "nbformat": 4,
  "nbformat_minor": 0
}