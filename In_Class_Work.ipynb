{
  "cells": [
    {
      "cell_type": "markdown",
      "metadata": {
        "id": "view-in-github",
        "colab_type": "text"
      },
      "source": [
        "<a href=\"https://colab.research.google.com/github/acrei27/BTE320/blob/main/In_Class_Work.ipynb\" target=\"_parent\"><img src=\"https://colab.research.google.com/assets/colab-badge.svg\" alt=\"Open In Colab\"/></a>"
      ]
    },
    {
      "cell_type": "code",
      "execution_count": null,
      "metadata": {
        "colab": {
          "base_uri": "https://localhost:8080/"
        },
        "id": "PiHsJ3WzCl7A",
        "outputId": "b65d4c1f-c3f2-4b8e-f4b5-d79d7acf37d5"
      },
      "outputs": [
        {
          "name": "stdout",
          "output_type": "stream",
          "text": [
            "244.92000000000002\n"
          ]
        }
      ],
      "source": [
        "h=10\n",
        "r=3\n",
        "pi=3.14\n",
        "\n",
        "area=2*pi*r**2+2*pi*r*h\n",
        "print(area)"
      ]
    },
    {
      "cell_type": "code",
      "execution_count": 3,
      "metadata": {
        "colab": {
          "base_uri": "https://localhost:8080/"
        },
        "id": "_Oa92RySLax_",
        "outputId": "59c13e0e-2baf-4a3a-d3a6-9aaadcf07791"
      },
      "outputs": [
        {
          "output_type": "stream",
          "name": "stdout",
          "text": [
            "Do you wish to play a game? (yes or no): yes\n",
            "Player 1, choose rock, paper, or scissors: rock\n",
            "Player 2, choose rock, paper, or scissors: paper\n",
            "Player two wins\n",
            "Do you wish to play another game? (yes or no): yes\n",
            "Player 1, choose rock, paper, or scissors: scissors\n",
            "Player 2, choose rock, paper, or scissors: paper\n",
            "Player one wins\n",
            "Do you wish to play another game? (yes or no): no\n",
            "Thanks for playing\n"
          ]
        }
      ],
      "source": [
        "choice = input(\"Do you wish to play a game? (yes or no): \")\n",
        "while choice == 'yes':\n",
        "    p1 = input(\"Player 1, choose rock, paper, or scissors: \")\n",
        "    p2 = input(\"Player 2, choose rock, paper, or scissors: \")\n",
        "    if p1 == p2:\n",
        "        print('Draw')\n",
        "    elif p1 == 'rock' and p2 == 'scissors':\n",
        "        print('Player one wins')\n",
        "    elif p1 == 'paper' and p2 == 'rock':\n",
        "        print('Player one wins')\n",
        "    elif p1 == 'scissors' and p2 == 'paper':\n",
        "        print('Player one wins')\n",
        "    else:\n",
        "        print('Player two wins')\n",
        "    choice = input(\"Do you wish to play another game? (yes or no): \")\n",
        "\n",
        "print('Thanks for playing')\n",
        "\n"
      ]
    },
    {
      "cell_type": "code",
      "execution_count": null,
      "metadata": {
        "colab": {
          "base_uri": "https://localhost:8080/"
        },
        "id": "QyeqAJ3IWvgt",
        "outputId": "41c5be4d-f77a-4c11-883e-0d6de2ee8b0e"
      },
      "outputs": [
        {
          "name": "stdout",
          "output_type": "stream",
          "text": [
            "Choose number:5\n",
            "Choose number:5\n",
            "make calculation using operations '+', '-', '*', '/', '**':*\n",
            "25.0\n"
          ]
        }
      ],
      "source": [
        "n1=float(input(\"Choose number:\"))\n",
        "n2=float(input(\"Choose number:\"))\n",
        "operation= str(input(\"make calculation using operations '+', '-', '*', '/', '**':\"))\n",
        "if operation=='+':\n",
        "  print(n1+n2)\n",
        "elif operation=='-':\n",
        "  print(n1-n2)\n",
        "elif operation=='*':\n",
        "  print(n1*n2)\n",
        "elif operation=='/':\n",
        "  print(n1/n2)\n",
        "elif operation=='**':\n",
        "  print(n1**n2)"
      ]
    }
  ],
  "metadata": {
    "colab": {
      "provenance": [],
      "authorship_tag": "ABX9TyNCKNY4saJA9cfvlmsgN68I",
      "include_colab_link": true
    },
    "kernelspec": {
      "display_name": "Python 3",
      "name": "python3"
    },
    "language_info": {
      "name": "python"
    }
  },
  "nbformat": 4,
  "nbformat_minor": 0
}