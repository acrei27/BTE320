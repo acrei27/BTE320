{
  "nbformat": 4,
  "nbformat_minor": 0,
  "metadata": {
    "colab": {
      "provenance": [],
      "authorship_tag": "ABX9TyNWpm+FKae/EAzhAK7rdOs1",
      "include_colab_link": true
    },
    "kernelspec": {
      "name": "python3",
      "display_name": "Python 3"
    },
    "language_info": {
      "name": "python"
    }
  },
  "cells": [
    {
      "cell_type": "markdown",
      "metadata": {
        "id": "view-in-github",
        "colab_type": "text"
      },
      "source": [
        "<a href=\"https://colab.research.google.com/github/acrei27/BTE320/blob/main/In_Class_WorkBTE320.ipynb\" target=\"_parent\"><img src=\"https://colab.research.google.com/assets/colab-badge.svg\" alt=\"Open In Colab\"/></a>"
      ]
    },
    {
      "cell_type": "code",
      "execution_count": null,
      "metadata": {
        "colab": {
          "base_uri": "https://localhost:8080/"
        },
        "id": "PiHsJ3WzCl7A",
        "outputId": "b65d4c1f-c3f2-4b8e-f4b5-d79d7acf37d5"
      },
      "outputs": [
        {
          "output_type": "stream",
          "name": "stdout",
          "text": [
            "244.92000000000002\n"
          ]
        }
      ],
      "source": [
        "h=10\n",
        "r=3\n",
        "pi=3.14\n",
        "\n",
        "area=2*pi*r**2+2*pi*r*h\n",
        "print(area)"
      ]
    },
    {
      "cell_type": "code",
      "source": [
        "p1=input(\"choose rock, paper, or scissors: \")\n",
        "p2= input(\"choose rock, paper, or scissors: \")\n",
        "if p1==p2:\n",
        "  print('Draw')\n",
        "elif p1 =='rock' and p2=='scissors':\n",
        "  print('Player one wins')\n",
        "elif p1 =='paper' and p2=='rock':\n",
        "  print('Player one wins')\n",
        "elif p1 =='scissors' and p2== 'paper':\n",
        "  print('Player one wins')\n",
        "else:\n",
        "  print('Player two wins')\n",
        "\n",
        "\n"
      ],
      "metadata": {
        "colab": {
          "base_uri": "https://localhost:8080/"
        },
        "id": "_Oa92RySLax_",
        "outputId": "6c146a4f-b417-4b2b-c9b3-3d6a28e91727"
      },
      "execution_count": 29,
      "outputs": [
        {
          "output_type": "stream",
          "name": "stdout",
          "text": [
            "choose rock, paper, or scissors: rock\n",
            "choose rock, paper, or scissors: paper\n",
            "Player two wins\n"
          ]
        }
      ]
    },
    {
      "cell_type": "code",
      "source": [
        "p1=input(\"choose rock, paper, or scissors: \")\n",
        "p2= input(\"choose rock, paper, or scissors: \")\n",
        "if p1==p2:\n",
        "  print('Draw')\n",
        "elif ((p1 =='rock' and p2=='scissors')\n",
        "or (p1 =='paper' and p2=='rock')\n",
        " or (p1 =='scissors' and p2== 'paper')):\n",
        "  print('Player one wins')\n",
        "else:\n",
        "  print('Player two wins')"
      ],
      "metadata": {
        "colab": {
          "base_uri": "https://localhost:8080/"
        },
        "id": "iVNGljijRZw9",
        "outputId": "b0717a4c-8d6d-4376-92d6-3bd25c8db133"
      },
      "execution_count": 32,
      "outputs": [
        {
          "output_type": "stream",
          "name": "stdout",
          "text": [
            "choose rock, paper, or scissors: rock\n",
            "choose rock, paper, or scissors: paper\n",
            "Player two wins\n"
          ]
        }
      ]
    },
    {
      "cell_type": "code",
      "source": [
        "n1=float(input(\"Choose number:\"))\n",
        "n2=float(input(\"Choose number:\"))\n",
        "operation= str(input(\"make calculation using operations '+', '-', '*', '/', '**':\"))\n",
        "if operation=='+':\n",
        "  print(n1+n2)\n",
        "elif operation=='-':\n",
        "  print(n1-n2)\n",
        "elif operation=='*':\n",
        "  print(n1*n2)\n",
        "elif operation=='/':\n",
        "  print(n1/n2)\n",
        "elif operation=='**':\n",
        "  print(n1**n2)"
      ],
      "metadata": {
        "colab": {
          "base_uri": "https://localhost:8080/"
        },
        "id": "QyeqAJ3IWvgt",
        "outputId": "7612d05e-514c-4696-add3-53a462f4908a"
      },
      "execution_count": 15,
      "outputs": [
        {
          "output_type": "stream",
          "name": "stdout",
          "text": [
            "Choose number:5.88\n",
            "Choose number:3.88\n",
            "make calculation using operations '+', '-', '*', '/', '**':+\n",
            "9.76\n"
          ]
        }
      ]
    }
  ]
}