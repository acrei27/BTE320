{
  "nbformat": 4,
  "nbformat_minor": 0,
  "metadata": {
    "colab": {
      "provenance": [],
      "include_colab_link": true
    },
    "kernelspec": {
      "name": "python3",
      "display_name": "Python 3"
    },
    "language_info": {
      "name": "python"
    }
  },
  "cells": [
    {
      "cell_type": "markdown",
      "metadata": {
        "id": "view-in-github",
        "colab_type": "text"
      },
      "source": [
        "<a href=\"https://colab.research.google.com/github/acrei27/BTE320/blob/main/ProblemSet1Fall23_(1).ipynb\" target=\"_parent\"><img src=\"https://colab.research.google.com/assets/colab-badge.svg\" alt=\"Open In Colab\"/></a>"
      ]
    },
    {
      "cell_type": "markdown",
      "source": [
        "# Problem Set 2"
      ],
      "metadata": {
        "id": "mqKVIuY-mxNU"
      }
    },
    {
      "cell_type": "markdown",
      "source": [
        "## Assignment 1: Quality Control (7 points)\n",
        "\n",
        "A quality control manager would like to find the average weight of a list of weights. Prior experience indicates that the first two measures are atypical, and the practice is to exclude these from the average calculation.\n",
        "\n",
        "Write a program that calculates the average of a list of numbers that given as inputs from the user, excluding the first two values.\n",
        "\n",
        "For your program, you must define and use the following functions:\n",
        "- `getValues(n)`: Prompt the user for `n` values, returns the list\n",
        "- `calcAverage(alist)`: Calculates the average from the list"
      ],
      "metadata": {
        "id": "-RSYW1jVm08n"
      }
    },
    {
      "cell_type": "code",
      "execution_count": null,
      "metadata": {
        "id": "AqbgJkgNmvQw",
        "colab": {
          "base_uri": "https://localhost:8080/"
        },
        "outputId": "b30c219f-c03e-4c3f-baba-c4c39277eeda"
      },
      "outputs": [
        {
          "output_type": "stream",
          "name": "stdout",
          "text": [
            "Enter weight:5\n",
            "Enter weight:3\n",
            "Enter weight:56\n",
            "Enter weight:2\n",
            "Enter weight:7\n",
            "The average weight is:21.666666666666668\n"
          ]
        }
      ],
      "source": [
        "def getValues(n):\n",
        "  L = []\n",
        "  for i in range(n):\n",
        "    L.append(float(input('Enter weight:')))\n",
        "  return L[2:]\n",
        "def calcAverage(alist):\n",
        "  print(f'The average weight is:{sum(alist)/len(alist)}')\n",
        "if __name__ == '__main__':\n",
        "    W= getValues(5)\n",
        "    calcAverage(W)\n"
      ]
    },
    {
      "cell_type": "markdown",
      "source": [
        "## Assignment 2: Country Statistics Lookup-Multiple Measures (6 points)\n",
        "\n",
        "Assume a program begins with the statement:\n",
        "\n",
        "```python\n",
        "allData = { # dictionary of values for countries\n",
        "    'US': {'pop':325.7, 'gdp': 19.39, 'ccy': 'USD', 'fx':  1.0},\n",
        "    'CA': {'pop': 36.5, 'gdp':  1.65, 'ccy': 'CAD', 'fx':  1.35},\n",
        "    'MX': {'pop':129.2, 'gdp':  1.15, 'ccy': 'MXN', 'fx': 19.68}\n",
        "    }\n",
        "```\n",
        "\n",
        "Write subsequent statements that (in a loop) prompt the user for a country code (`US`, `CA`, or `MX`), then prompt for a measure name (`pop`, `gdp`, `ccy`, or `fx`), then look up in the above dictionary for the corresponding value, and display it.\n",
        "\n",
        "Example run:\n",
        "```\n",
        "Please enter a country code: CA\n",
        "Please enter a statistic: pop\n",
        "CA pop = 36.5\n",
        "```\n",
        "\n",
        "Your program should handle the cases where a user-entered country code or measure name is not found."
      ],
      "metadata": {
        "id": "QFO0Kzx8ncnv"
      }
    },
    {
      "cell_type": "code",
      "source": [
        "allData = {\n",
        "    'US': {'pop': 325.7, 'gdp': 19.39, 'ccy': 'USD', 'fx': 1.0},\n",
        "    'CA': {'pop': 36.5, 'gdp': 1.65, 'ccy': 'CAD', 'fx': 1.35},\n",
        "    'MX': {'pop': 129.2, 'gdp': 1.15, 'ccy': 'MXN', 'fx': 19.68}\n",
        "}\n",
        "while True:\n",
        "\n",
        "    country = input(\"Please enter a country code (US, CA, MX) or 'exit' to quit: \").strip().upper()\n",
        "    if country == \"EXIT\":\n",
        "        print(\"Exiting the program.\")\n",
        "        break\n",
        "\n",
        "    if country not in allData:\n",
        "        print(f\"Error: Country code '{country}' not found.\")\n",
        "        continue\n",
        "\n",
        "    measure = input(\"Please enter a statistic (pop, gdp, ccy, fx): \").strip().lower()\n",
        "\n",
        "    if measure not in allData[country]:\n",
        "        print(f\"Error: Statistic '{measure}' not found for country '{country}'.\")\n",
        "        continue\n",
        "\n",
        "    value = allData[country][measure]\n",
        "    print(f\"{country} {measure} = {value}\")"
      ],
      "metadata": {
        "id": "NZFjRINKowEW",
        "colab": {
          "base_uri": "https://localhost:8080/"
        },
        "outputId": "88013cff-c701-46a2-fe51-85e4299d34bf"
      },
      "execution_count": 1,
      "outputs": [
        {
          "output_type": "stream",
          "name": "stdout",
          "text": [
            "Please enter a country code (US, CA, MX) or 'exit' to quit: CA\n",
            "Please enter a statistic (pop, gdp, ccy, fx): pop\n",
            "CA pop = 36.5\n",
            "Please enter a country code (US, CA, MX) or 'exit' to quit: exit\n",
            "Exiting the program.\n"
          ]
        }
      ]
    },
    {
      "cell_type": "markdown",
      "source": [
        "## Assignment 3: Parking Garage (6 points)\n",
        "\n",
        "Write a program to compute the fee for parking in a garage for a number of hours.\n",
        "\n",
        "The program should:\n",
        "- Prompt the user for how many hours parked\n",
        "- Calculate the fee based on the following rules:\n",
        "  - $2.50/hour\n",
        "\n",
        "  - minimum fee is $6.00\n",
        "\n",
        "  - maximum fee is $20.00\n",
        "- Print the result\n",
        "\n",
        "For your program, define and use the following two functions:\n",
        "```python\n",
        "# use input() to prompt for the # of hours parked, return this value\n",
        "def getParkingHours()\n",
        "\n",
        "# takes as input hours (a number), returns the parking fee\n",
        "def calcParkingFee()\n",
        "```"
      ],
      "metadata": {
        "id": "GjaUFrnfpKFf"
      }
    },
    {
      "cell_type": "code",
      "source": [
        "def getParkingHours():\n",
        "    while True:\n",
        "        try:\n",
        "            hours = float(input(\"Enter the number of hours parked: \"))\n",
        "            if hours <= 0:\n",
        "                print(\"Hours must be greater than 0. Please try again.\")\n",
        "                continue\n",
        "            return hours\n",
        "        except ValueError:\n",
        "            print(\"Invalid input. Please enter a number.\")\n",
        "\n",
        "def calcParkingFee(hours):\n",
        "    hourly_rate = 2.50\n",
        "    minimum_fee = 6.00\n",
        "    maximum_fee = 20.00\n",
        "\n",
        "    fee = hours * hourly_rate\n",
        "    if fee < minimum_fee:\n",
        "        return minimum_fee\n",
        "    elif fee > maximum_fee:\n",
        "        return maximum_fee\n",
        "    else:\n",
        "        return fee\n",
        "\n",
        "def main():\n",
        "    hours = getParkingHours()\n",
        "    fee = calcParkingFee(hours)\n",
        "    print(f\"The parking fee for {hours:.2f} hours is ${fee:.2f}.\")\n",
        "if __name__ == \"__main__\":\n",
        "    main()"
      ],
      "metadata": {
        "id": "5ha4O3V5pwNN",
        "colab": {
          "base_uri": "https://localhost:8080/"
        },
        "outputId": "9a9c4ca2-2035-4ec9-afdb-2a4b5882e46b"
      },
      "execution_count": 2,
      "outputs": [
        {
          "output_type": "stream",
          "name": "stdout",
          "text": [
            "Enter the number of hours parked: 5\n",
            "The parking fee for 5.00 hours is $12.50.\n"
          ]
        }
      ]
    },
    {
      "cell_type": "markdown",
      "source": [
        "## Assignment 4: Tuition (6 points)\n",
        "\n",
        "A college charges tuition according to the following:\n",
        "- 12 or more credits: $20,000/semester\n",
        "\n",
        "- 1-11 credits: $1,200 + $1,700 per credit\n",
        "\n",
        "Write a program that prompts the user for a number of credits and determines and displays the tuition for the semester. As part of your program, define and use the following function:\n",
        "```python\n",
        "def calcTuition(credits)\n",
        "```\n",
        "The function returns the tuition for a given number of credits"
      ],
      "metadata": {
        "id": "gipBObe5qm-2"
      }
    },
    {
      "cell_type": "code",
      "source": [
        "def calcTuition(credits):\n",
        "  if credits >= 12:\n",
        "    return 20_000\n",
        "  else :\n",
        "    return 1_200 + 1_700 * credits\n",
        "\n",
        "\n",
        "credits= int(input('Enter the number of credits:'))\n",
        "tuition = calcTuition(credits)\n",
        "print(f'The tuition for {credits} credits is ${tuition}')"
      ],
      "metadata": {
        "id": "BPcn9ywzrL8y",
        "colab": {
          "base_uri": "https://localhost:8080/"
        },
        "outputId": "70c387fa-c500-4abc-9faf-ee39fb497ff6"
      },
      "execution_count": null,
      "outputs": [
        {
          "output_type": "stream",
          "name": "stdout",
          "text": [
            "Enter the number of credits:5\n",
            "The tuition for 5 credits is $9700\n"
          ]
        }
      ]
    },
    {
      "cell_type": "code",
      "source": [],
      "metadata": {
        "id": "XrP3TH9a91cg"
      },
      "execution_count": null,
      "outputs": []
    }
  ]
}